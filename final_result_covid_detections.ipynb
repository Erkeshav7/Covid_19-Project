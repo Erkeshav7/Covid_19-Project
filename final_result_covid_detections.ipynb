{
  "cells": [
    {
      "cell_type": "code",
      "execution_count": null,
      "metadata": {
        "colab": {
          "base_uri": "https://localhost:8080/"
        },
        "id": "5OPcQPk4k9ET",
        "outputId": "7c33efbd-b49f-4b50-f252-62efeea95c31"
      },
      "outputs": [
        {
          "output_type": "stream",
          "name": "stdout",
          "text": [
            "--2022-05-31 08:23:42--  http://cb.lk/covid_19\n",
            "Resolving cb.lk (cb.lk)... 172.67.187.81, 104.21.72.203, 2606:4700:3032::ac43:bb51, ...\n",
            "Connecting to cb.lk (cb.lk)|172.67.187.81|:80... connected.\n",
            "HTTP request sent, awaiting response... 301 Moved Permanently\n",
            "Location: https://cb.lk/covid_19 [following]\n",
            "--2022-05-31 08:23:42--  https://cb.lk/covid_19\n",
            "Connecting to cb.lk (cb.lk)|172.67.187.81|:443... connected.\n",
            "HTTP request sent, awaiting response... 302 Found\n",
            "Location: https://www.dropbox.com/s/7rjw6oet4za01op/CovidDataset-20200427T133042Z-001.zip?dl=0 [following]\n",
            "--2022-05-31 08:23:43--  https://www.dropbox.com/s/7rjw6oet4za01op/CovidDataset-20200427T133042Z-001.zip?dl=0\n",
            "Resolving www.dropbox.com (www.dropbox.com)... 162.125.7.18, 2620:100:6023:18::a27d:4312\n",
            "Connecting to www.dropbox.com (www.dropbox.com)|162.125.7.18|:443... connected.\n",
            "HTTP request sent, awaiting response... 301 Moved Permanently\n",
            "Location: /s/raw/7rjw6oet4za01op/CovidDataset-20200427T133042Z-001.zip [following]\n",
            "--2022-05-31 08:23:44--  https://www.dropbox.com/s/raw/7rjw6oet4za01op/CovidDataset-20200427T133042Z-001.zip\n",
            "Reusing existing connection to www.dropbox.com:443.\n",
            "HTTP request sent, awaiting response... 302 Found\n",
            "Location: https://uc74ee10575fc6e658ac1b1e4df3.dl.dropboxusercontent.com/cd/0/inline/BmSYGBQBkvNZgHelMmj6tQ3KVd16Kxw2VFYeOurTwKZ8L3RL-IxRBCE38pSuOYxl7RjJnzEo_21Y79_5jG5pkdgL856HU7L9UUFq_0iRntwJjdilWeYzdy9Fnx9lXj5vh7xg8OcyaceIgcMJpPw1NLBZuez5FdQFVPvb9TaHq28NxQ/file# [following]\n",
            "--2022-05-31 08:23:44--  https://uc74ee10575fc6e658ac1b1e4df3.dl.dropboxusercontent.com/cd/0/inline/BmSYGBQBkvNZgHelMmj6tQ3KVd16Kxw2VFYeOurTwKZ8L3RL-IxRBCE38pSuOYxl7RjJnzEo_21Y79_5jG5pkdgL856HU7L9UUFq_0iRntwJjdilWeYzdy9Fnx9lXj5vh7xg8OcyaceIgcMJpPw1NLBZuez5FdQFVPvb9TaHq28NxQ/file\n",
            "Resolving uc74ee10575fc6e658ac1b1e4df3.dl.dropboxusercontent.com (uc74ee10575fc6e658ac1b1e4df3.dl.dropboxusercontent.com)... 162.125.6.15, 2620:100:601c:15::a27d:60f\n",
            "Connecting to uc74ee10575fc6e658ac1b1e4df3.dl.dropboxusercontent.com (uc74ee10575fc6e658ac1b1e4df3.dl.dropboxusercontent.com)|162.125.6.15|:443... connected.\n",
            "HTTP request sent, awaiting response... 302 Found\n",
            "Location: /cd/0/inline2/BmTOG9DxOBrA-fJyjoPCaqHL-DE1kiD85tKNT-huKFtwHciOc2lBxkhJlYu_Eb-51jTmy-BqSaosYQG1tLQSEhftcQIcwW96YI9OMHdqHS7Hf1yHi513X9eBGsr_xeQUMDu9RZ185hGgr1_Exzff1_7D_JFXtFJD8UNQFQjVf2ivG6AJor6uwJgUqFwlM-TNJ1lw7UqUW2v6FNuHCJW1ysF_syTcT8uQzy9WYQJOcHa5S2eDqVdMnnTgGg1ciCUB96Sq-u4lYAnrhRVHuVIaGqzolXHFrfW4HOgkuhQrystXkwk1adxE4HePHl1glbO4B0n2SkPRmWXNEZBkhIgxdndXN-gve_WEqbYxwoYiMJl3eGOfHtabr2783dPOZBT1qOIWOjRIq4BFNSHssuyZVvJXPvnoGBzOlNQxZLXJInxB7g/file [following]\n",
            "--2022-05-31 08:23:44--  https://uc74ee10575fc6e658ac1b1e4df3.dl.dropboxusercontent.com/cd/0/inline2/BmTOG9DxOBrA-fJyjoPCaqHL-DE1kiD85tKNT-huKFtwHciOc2lBxkhJlYu_Eb-51jTmy-BqSaosYQG1tLQSEhftcQIcwW96YI9OMHdqHS7Hf1yHi513X9eBGsr_xeQUMDu9RZ185hGgr1_Exzff1_7D_JFXtFJD8UNQFQjVf2ivG6AJor6uwJgUqFwlM-TNJ1lw7UqUW2v6FNuHCJW1ysF_syTcT8uQzy9WYQJOcHa5S2eDqVdMnnTgGg1ciCUB96Sq-u4lYAnrhRVHuVIaGqzolXHFrfW4HOgkuhQrystXkwk1adxE4HePHl1glbO4B0n2SkPRmWXNEZBkhIgxdndXN-gve_WEqbYxwoYiMJl3eGOfHtabr2783dPOZBT1qOIWOjRIq4BFNSHssuyZVvJXPvnoGBzOlNQxZLXJInxB7g/file\n",
            "Reusing existing connection to uc74ee10575fc6e658ac1b1e4df3.dl.dropboxusercontent.com:443.\n",
            "HTTP request sent, awaiting response... 200 OK\n",
            "Length: 140830621 (134M) [application/zip]\n",
            "Saving to: ‘covid_19.2’\n",
            "\n",
            "covid_19.2          100%[===================>] 134.31M  65.2MB/s    in 2.1s    \n",
            "\n",
            "2022-05-31 08:23:47 (65.2 MB/s) - ‘covid_19.2’ saved [140830621/140830621]\n",
            "\n"
          ]
        }
      ],
      "source": [
        "!wget http://cb.lk/covid_19\n"
      ]
    },
    {
      "cell_type": "code",
      "execution_count": null,
      "metadata": {
        "colab": {
          "base_uri": "https://localhost:8080/"
        },
        "id": "_QeLly0plDYe",
        "outputId": "cafc690c-806b-4b6f-a059-cc86ac7892f5"
      },
      "outputs": [
        {
          "output_type": "stream",
          "name": "stdout",
          "text": [
            "Archive:  covid_19\n",
            "replace CovidDataset/Val/Covid/88de9d8c39e946abd495b37cd07d89e5-6531-0.jpg? [y]es, [n]o, [A]ll, [N]one, [r]ename: [Y]\n",
            "error:  invalid response [[Y]]\n",
            "replace CovidDataset/Val/Covid/88de9d8c39e946abd495b37cd07d89e5-6531-0.jpg? [y]es, [n]o, [A]ll, [N]one, [r]ename: [Y]es\n",
            "error:  invalid response [[Y]es]\n",
            "replace CovidDataset/Val/Covid/88de9d8c39e946abd495b37cd07d89e5-6531-0.jpg? [y]es, [n]o, [A]ll, [N]one, [r]ename: Y\n",
            "  inflating: CovidDataset/Val/Covid/88de9d8c39e946abd495b37cd07d89e5-6531-0.jpg  \n",
            "replace CovidDataset/Val/Covid/covid-19-pneumonia-8.jpg? [y]es, [n]o, [A]ll, [N]one, [r]ename: [Y]ES\n",
            "error:  invalid response [[Y]ES]\n",
            "replace CovidDataset/Val/Covid/covid-19-pneumonia-8.jpg? [y]es, [n]o, [A]ll, [N]one, [r]ename: [y]es\n",
            "error:  invalid response [[y]es]\n",
            "replace CovidDataset/Val/Covid/covid-19-pneumonia-8.jpg? [y]es, [n]o, [A]ll, [N]one, [r]ename: yes\n",
            "  inflating: CovidDataset/Val/Covid/covid-19-pneumonia-8.jpg  \n",
            "replace CovidDataset/Val/Covid/85E52EB3-56E9-4D67-82DA-DEA247C82886.jpeg? [y]es, [n]o, [A]ll, [N]one, [r]ename: All\n",
            "  inflating: CovidDataset/Val/Covid/85E52EB3-56E9-4D67-82DA-DEA247C82886.jpeg  \n",
            "  inflating: CovidDataset/Val/Covid/4-x-day1.jpg  \n",
            "  inflating: CovidDataset/Val/Covid/covid-19-pneumonia-53.jpg  \n",
            "  inflating: CovidDataset/Val/Covid/4e43e48d52c9e2d4c6c1fb9bc1544f_jumbo.jpeg  \n",
            "  inflating: CovidDataset/Val/Covid/covid-19-pneumonia-35-1.jpg  \n",
            "  inflating: CovidDataset/Val/Covid/53EC07C9-5CC6-4BE4-9B6F-D7B0D72AAA7E.jpeg  \n",
            "  inflating: CovidDataset/Val/Covid/6CB4EFC6-68FA-4CD5-940C-BEFA8DAFE9A7.jpeg  \n",
            "  inflating: CovidDataset/Val/Covid/58cb9263f16e94305c730685358e4e_jumbo.jpeg  \n",
            "  inflating: CovidDataset/Val/Covid/6b3bdbc31f65230b8cdcc3cef5f8ba8a-40ac-0.jpg  \n",
            "  inflating: CovidDataset/Val/Covid/auntminnie-d-2020_01_28_23_51_6665_2020_01_28_Vietnam_coronavirus.jpeg  \n",
            "  inflating: CovidDataset/Val/Covid/6b44464d-73a7-4cf3-bbb6-ffe7168300e3.annot.original.jpeg  \n",
            "  inflating: CovidDataset/Val/Covid/88de9d8c39e946abd495b37cd07d89e5-2ee6-0.jpg  \n",
            "  inflating: CovidDataset/Val/Covid/31BA3780-2323-493F-8AED-62081B9C383B.jpeg  \n",
            "  inflating: CovidDataset/Val/Covid/B2D20576-00B7-4519-A415-72DE29C90C34.jpeg  \n",
            "  inflating: CovidDataset/Val/Covid/6C94A287-C059-46A0-8600-AFB95F4727B7.jpeg  \n",
            "  inflating: CovidDataset/Train/Covid/1-s2.0-S1684118220300682-main.pdf-003-b2.png  \n",
            "  inflating: CovidDataset/Val/Covid/41591_2020_819_Fig1_HTML.webp-day5.png  \n",
            "  inflating: CovidDataset/Val/Covid/41591_2020_819_Fig1_HTML.webp-day10.png  \n",
            "  inflating: CovidDataset/Train/Covid/1-s2.0-S1684118220300682-main.pdf-003-b1.png  \n",
            "  inflating: CovidDataset/Val/Covid/16654_2_1.jpg  \n",
            "  inflating: CovidDataset/Train/Covid/nCoV-radiol.2020200269.fig1-day7.jpeg  \n",
            "  inflating: CovidDataset/Val/Covid/auntminnie-c-2020_01_28_23_51_6665_2020_01_28_Vietnam_coronavirus.jpeg  \n",
            "  inflating: CovidDataset/Train/Covid/7-fatal-covid19.jpg  \n",
            "  inflating: CovidDataset/Train/Covid/auntminnie-b-2020_01_28_23_51_6665_2020_01_28_Vietnam_coronavirus.jpeg  \n",
            "  inflating: CovidDataset/Train/Normal/NORMAL2-IM-0986-0001.jpeg  \n",
            "  inflating: CovidDataset/Train/Normal/IM-0332-0001.jpeg  \n",
            "  inflating: CovidDataset/Train/Covid/extubation-13.jpg  \n",
            "  inflating: CovidDataset/Val/Covid/covid-19-pneumonia-35-2.jpg  \n",
            "  inflating: CovidDataset/Train/Normal/NORMAL2-IM-1337-0001.jpeg  \n",
            "  inflating: CovidDataset/Val/Covid/covid-19-pneumonia-12.jpg  \n",
            "  inflating: CovidDataset/Train/Normal/IM-0644-0001-0002.jpeg  \n",
            "  inflating: CovidDataset/Train/Covid/ryct.2020200034.fig5-day7.jpeg  \n",
            "  inflating: CovidDataset/Val/Covid/7AF6C1AF-D249-4BD2-8C26-449304105D03.jpeg  \n",
            "  inflating: CovidDataset/Train/Covid/covid-19-pneumonia-15-PA.jpg  \n",
            "  inflating: CovidDataset/Train/Covid/1-s2.0-S1684118220300608-main.pdf-002.jpg  \n",
            "  inflating: CovidDataset/Train/Normal/IM-0528-0001.jpeg  \n",
            "  inflating: CovidDataset/Train/Covid/80446565-E090-4187-A031-9D3CEAA586C8.jpeg  \n",
            "  inflating: CovidDataset/Train/Covid/1-s2.0-S0929664620300449-gr2_lrg-d.jpg  \n",
            "  inflating: CovidDataset/Train/Covid/covid-19-pneumonia-bilateral.jpg  \n",
            "  inflating: CovidDataset/Train/Normal/NORMAL2-IM-1020-0001-0001.jpeg  \n",
            "  inflating: CovidDataset/Train/Covid/E63574A7-4188-4C8D-8D17-9D67A18A1AFA.jpeg  \n",
            "  inflating: CovidDataset/Train/Normal/IM-0327-0001.jpeg  \n",
            "  inflating: CovidDataset/Train/Covid/AR-1.jpg  \n",
            "  inflating: CovidDataset/Train/Covid/F2DE909F-E19C-4900-92F5-8F435B031AC6.jpeg  \n",
            "  inflating: CovidDataset/Val/Normal/NORMAL2-IM-0851-0001.jpeg  \n",
            "  inflating: CovidDataset/Train/Covid/covid-19-pneumonia-2.jpg  \n",
            "  inflating: CovidDataset/Train/Normal/IM-0539-0001.jpeg  \n",
            "  inflating: CovidDataset/Train/Normal/IM-0495-0001.jpeg  \n",
            "  inflating: CovidDataset/Train/Normal/IM-0533-0001-0002.jpeg  \n",
            "  inflating: CovidDataset/Train/Normal/IM-0724-0001.jpeg  \n",
            "  inflating: CovidDataset/Train/Covid/1.CXRCTThoraximagesofCOVID-19fromSingapore.pdf-001-fig2a.png  \n",
            "  inflating: CovidDataset/Train/Covid/1-s2.0-S0140673620303706-fx1_lrg.jpg  \n",
            "  inflating: CovidDataset/Train/Normal/IM-0491-0001-0002.jpeg  \n",
            "  inflating: CovidDataset/Train/Covid/covid-19-pneumonia-58-day-9.jpg  \n",
            "  inflating: CovidDataset/Train/Normal/IM-0555-0001.jpeg  \n",
            "  inflating: CovidDataset/Train/Covid/1.CXRCTThoraximagesofCOVID-19fromSingapore.pdf-000-fig1b.png  \n",
            "  inflating: CovidDataset/Train/Normal/IM-0326-0001.jpeg  \n",
            "  inflating: CovidDataset/Train/Covid/covid-19-caso-70-1-PA.jpg  \n",
            "  inflating: CovidDataset/Train/Covid/1.CXRCTThoraximagesofCOVID-19fromSingapore.pdf-001-fig2b.png  \n",
            "  inflating: CovidDataset/Val/Normal/NORMAL2-IM-0730-0001.jpeg  \n",
            "  inflating: CovidDataset/Train/Normal/IM-0451-0001.jpeg  \n",
            "  inflating: CovidDataset/Val/Covid/7C69C012-7479-493F-8722-ABC29C60A2DD.jpeg  \n",
            "  inflating: CovidDataset/Train/Covid/16660_2_1.jpg  \n",
            "  inflating: CovidDataset/Train/Covid/1-s2.0-S1684118220300608-main.pdf-001.jpg  \n",
            "  inflating: CovidDataset/Train/Covid/kjr-21-e24-g003-l-a.jpg  \n",
            "  inflating: CovidDataset/Train/Covid/nejmoa2001191_f1-PA.jpeg  \n",
            "  inflating: CovidDataset/Train/Normal/IM-0534-0001.jpeg  \n",
            "  inflating: CovidDataset/Train/Covid/kjr-21-e24-g002-l-a.jpg  \n",
            "  inflating: CovidDataset/Train/Covid/covid-19-pneumonia-38-pa.jpg  \n",
            "  inflating: CovidDataset/Train/Normal/NORMAL2-IM-0529-0001.jpeg  \n",
            "  inflating: CovidDataset/Train/Covid/9C34AF49-E589-44D5-92D3-168B3B04E4A6.jpeg  \n",
            "  inflating: CovidDataset/Train/Normal/IM-0221-0001.jpeg  \n",
            "  inflating: CovidDataset/Val/Normal/NORMAL2-IM-1191-0001.jpeg  \n",
            "  inflating: CovidDataset/Train/Normal/NORMAL2-IM-0831-0001.jpeg  \n",
            "  inflating: CovidDataset/Train/Normal/IM-0500-0001.jpeg  \n",
            "  inflating: CovidDataset/Val/Normal/NORMAL2-IM-1228-0001.jpeg  \n",
            "  inflating: CovidDataset/Train/Covid/extubation-1.jpg  \n",
            "  inflating: CovidDataset/Train/Covid/covid-19-infection-exclusive-gastrointestinal-symptoms-l.png  \n",
            "  inflating: CovidDataset/Val/Normal/NORMAL2-IM-1037-0001.jpeg  \n",
            "  inflating: CovidDataset/Train/Normal/NORMAL2-IM-0956-0001.jpeg  \n",
            "  inflating: CovidDataset/Train/Normal/NORMAL2-IM-0847-0001.jpeg  \n",
            "  inflating: CovidDataset/Train/Normal/IM-0389-0001.jpeg  \n",
            "  inflating: CovidDataset/Train/Normal/IM-0660-0001-0001.jpeg  \n",
            "  inflating: CovidDataset/Train/Covid/16672_1_1.jpg  \n",
            "  inflating: CovidDataset/Train/Normal/IM-0700-0001.jpeg  \n",
            "  inflating: CovidDataset/Train/Normal/NORMAL2-IM-1305-0001.jpeg  \n",
            "  inflating: CovidDataset/Train/Covid/16660_4_1.jpg  \n",
            "  inflating: CovidDataset/Val/Covid/353889E0-A1E8-4F9E-A0B8-F24F36BCFBFB.jpeg  \n",
            "  inflating: CovidDataset/Train/Covid/covid-19-pneumonia-22-day2-pa.png  \n",
            "  inflating: CovidDataset/Train/Normal/IM-0472-0001.jpeg  \n",
            "  inflating: CovidDataset/Train/Normal/NORMAL2-IM-1202-0001.jpeg  \n",
            "  inflating: CovidDataset/Train/Normal/NORMAL2-IM-1188-0001.jpeg  \n",
            "  inflating: CovidDataset/Train/Covid/2C26F453-AF3B-4517-BB9E-802CF2179543.jpeg  \n",
            "  inflating: CovidDataset/Train/Normal/NORMAL2-IM-1290-0001.jpeg  \n",
            "  inflating: CovidDataset/Train/Normal/NORMAL2-IM-1346-0001.jpeg  \n",
            "  inflating: CovidDataset/Train/Normal/NORMAL2-IM-1345-0001-0001.jpeg  \n",
            "  inflating: CovidDataset/Train/Covid/radiol.2020200274.fig3d.png  \n",
            "  inflating: CovidDataset/Train/Normal/IM-0669-0001.jpeg  \n",
            "  inflating: CovidDataset/Train/Normal/IM-0270-0001.jpeg  \n",
            "  inflating: CovidDataset/Train/Covid/covid-19-pneumonia-28.png  \n",
            "  inflating: CovidDataset/Train/Covid/ryct.2020200034.fig2.jpeg  \n",
            "  inflating: CovidDataset/Train/Normal/NORMAL2-IM-1287-0001.jpeg  \n",
            "  inflating: CovidDataset/Train/Covid/1.CXRCTThoraximagesofCOVID-19fromSingapore.pdf-000-fig1a.png  \n",
            "  inflating: CovidDataset/Train/Normal/NORMAL2-IM-0626-0001.jpeg  \n",
            "  inflating: CovidDataset/Train/Normal/IM-0543-0001.jpeg  \n",
            "  inflating: CovidDataset/Val/Normal/NORMAL2-IM-0857-0001.jpeg  \n",
            "  inflating: CovidDataset/Val/Normal/NORMAL2-IM-0905-0001.jpeg  \n",
            "  inflating: CovidDataset/Train/Covid/1-s2.0-S0929664620300449-gr2_lrg-a.jpg  \n",
            "  inflating: CovidDataset/Val/Covid/16654_1_1.png  \n",
            "  inflating: CovidDataset/Train/Covid/kjr-21-e24-g001-l-a.jpg  \n",
            "  inflating: CovidDataset/Train/Normal/IM-0433-0001.jpeg  \n",
            "  inflating: CovidDataset/Train/Covid/covid-19-pneumonia-58-day-10.jpg  \n",
            "  inflating: CovidDataset/Val/Covid/16654_4_1.jpg  \n",
            "  inflating: CovidDataset/Val/Normal/NORMAL2-IM-0790-0001.jpeg  \n",
            "  inflating: CovidDataset/Train/Normal/NORMAL2-IM-1326-0001.jpeg  \n",
            "  inflating: CovidDataset/Train/Normal/IM-0563-0001.jpeg  \n",
            "  inflating: CovidDataset/Train/Covid/ae6c954c0039de4b5edee53865ffee43-e6c8-0.jpg  \n",
            "  inflating: CovidDataset/Val/Covid/23E99E2E-447C-46E5-8EB2-D35D12473C39.png  \n",
            "  inflating: CovidDataset/Train/Covid/gr1_lrg-a.jpg  \n",
            "  inflating: CovidDataset/Train/Normal/IM-0564-0001.jpeg  \n",
            "  inflating: CovidDataset/Train/Normal/NORMAL2-IM-0499-0001.jpeg  \n",
            "  inflating: CovidDataset/Train/Covid/16663_1_1.jpg  \n",
            "  inflating: CovidDataset/Train/Covid/extubation-8.jpg  \n",
            "  inflating: CovidDataset/Train/Covid/paving.jpg  \n",
            "  inflating: CovidDataset/Train/Normal/IM-0529-0001.jpeg  \n",
            "  inflating: CovidDataset/Train/Normal/IM-0425-0001.jpeg  \n",
            "  inflating: CovidDataset/Train/Normal/IM-0439-0001.jpeg  \n",
            "  inflating: CovidDataset/Train/Normal/IM-0491-0001.jpeg  \n",
            "  inflating: CovidDataset/Train/Normal/IM-0337-0001.jpeg  \n",
            "  inflating: CovidDataset/Train/Covid/all14238-fig-0001-m-b.jpg  \n",
            "  inflating: CovidDataset/Train/Covid/covid-19-infection-exclusive-gastrointestinal-symptoms-pa.png  \n",
            "  inflating: CovidDataset/Train/Normal/NORMAL2-IM-1320-0001.jpeg  \n",
            "  inflating: CovidDataset/Train/Covid/1.CXRCTThoraximagesofCOVID-19fromSingapore.pdf-002-fig3b.png  \n",
            "  inflating: CovidDataset/Train/Normal/NORMAL2-IM-0815-0001.jpeg  \n",
            "  inflating: CovidDataset/Train/Covid/nejmoa2001191_f5-PA.jpeg  \n",
            "  inflating: CovidDataset/Train/Normal/NORMAL2-IM-1336-0001.jpeg  \n",
            "  inflating: CovidDataset/Train/Normal/IM-0369-0001.jpeg  \n",
            "  inflating: CovidDataset/Train/Normal/NORMAL2-IM-1300-0001.jpeg  \n",
            "  inflating: CovidDataset/Train/Normal/NORMAL2-IM-1295-0001.jpeg  \n",
            "  inflating: CovidDataset/Train/Normal/NORMAL2-IM-0518-0001.jpeg  \n",
            "  inflating: CovidDataset/Train/Covid/covid-19-pneumonia-34.png  \n",
            "  inflating: CovidDataset/Train/Normal/IM-0385-0001.jpeg  \n",
            "  inflating: CovidDataset/Train/Covid/F63AB6CE-1968-4154-A70F-913AF154F53D.jpeg  \n",
            "  inflating: CovidDataset/Val/Normal/NORMAL2-IM-0842-0001.jpeg  \n",
            "  inflating: CovidDataset/Val/Normal/NORMAL2-IM-0416-0001-0001.jpeg  \n",
            "  inflating: CovidDataset/Val/Normal/NORMAL2-IM-1275-0001.jpeg  \n",
            "  inflating: CovidDataset/Train/Normal/IM-0467-0001.jpeg  \n",
            "  inflating: CovidDataset/Train/Normal/NORMAL2-IM-1344-0001.jpeg  \n",
            "  inflating: CovidDataset/Train/Normal/IM-0301-0001.jpeg  \n",
            "  inflating: CovidDataset/Train/Normal/IM-0421-0001.jpeg  \n",
            "  inflating: CovidDataset/Train/Covid/ryct.2020200034.fig5-day0.jpeg  \n",
            "  inflating: CovidDataset/Train/Covid/covid-19-pneumonia-58-day-3.jpg  \n",
            "  inflating: CovidDataset/Train/Covid/covid-19-pneumonia-mild.JPG  \n",
            "  inflating: CovidDataset/Val/Normal/NORMAL2-IM-0859-0001.jpeg  \n",
            "  inflating: CovidDataset/Val/Normal/NORMAL2-IM-1237-0001.jpeg  \n",
            "  inflating: CovidDataset/Train/Normal/NORMAL2-IM-1103-0001-0001.jpeg  \n",
            "  inflating: CovidDataset/Train/Covid/1-s2.0-S1684118220300682-main.pdf-002-a2.png  \n",
            "  inflating: CovidDataset/Val/Normal/NORMAL2-IM-0535-0001-0002.jpeg  \n",
            "  inflating: CovidDataset/Train/Covid/1.CXRCTThoraximagesofCOVID-19fromSingapore.pdf-003-fig4b.png  \n",
            "  inflating: CovidDataset/Train/Normal/IM-0461-0001.jpeg  \n",
            "  inflating: CovidDataset/Train/Normal/IM-0372-0001.jpeg  \n",
            "  inflating: CovidDataset/Train/Normal/IM-0666-0001-0001.jpeg  \n",
            "  inflating: CovidDataset/Train/Normal/NORMAL2-IM-0840-0001.jpeg  \n",
            "  inflating: CovidDataset/Train/Covid/ryct.2020200034.fig5-day4.jpeg  \n",
            "  inflating: CovidDataset/Train/Normal/NORMAL2-IM-0798-0001.jpeg  \n",
            "  inflating: CovidDataset/Train/Normal/IM-0351-0001.jpeg  \n",
            "  inflating: CovidDataset/Train/Covid/auntminnie-a-2020_01_28_23_51_6665_2020_01_28_Vietnam_coronavirus.jpeg  \n",
            "  inflating: CovidDataset/Train/Covid/1-s2.0-S1684118220300682-main.pdf-002-a1.png  \n",
            "  inflating: CovidDataset/Val/Normal/NORMAL2-IM-1240-0001.jpeg  \n",
            "  inflating: CovidDataset/Train/Covid/93FE0BB1-022D-4F24-9727-987A07975FFB.jpeg  \n",
            "  inflating: CovidDataset/Train/Covid/16660_1_1.jpg  \n",
            "  inflating: CovidDataset/Train/Covid/figure1-5e71be566aa8714a04de3386-98-left.jpeg  \n",
            "  inflating: CovidDataset/Train/Normal/IM-0703-0001.jpeg  \n",
            "  inflating: CovidDataset/Train/Covid/covid-19-pneumonia-7-PA.jpg  \n",
            "  inflating: CovidDataset/Train/Normal/NORMAL2-IM-1277-0001-0002.jpeg  \n",
            "  inflating: CovidDataset/Train/Covid/8FDE8DBA-CFBD-4B4C-B1A4-6F36A93B7E87.jpeg  \n",
            "  inflating: CovidDataset/Train/Normal/IM-0482-0001.jpeg  \n",
            "  inflating: CovidDataset/Train/Normal/IM-0656-0001-0002.jpeg  \n",
            "  inflating: CovidDataset/Train/Covid/16664_1_1.jpg  \n",
            "  inflating: CovidDataset/Train/Normal/IM-0430-0001.jpeg  \n",
            "  inflating: CovidDataset/Train/Covid/covid-19-pneumonia-67.jpeg  \n",
            "  inflating: CovidDataset/Train/Covid/ciaa199.pdf-001-a.png  \n",
            "  inflating: CovidDataset/Train/Normal/IM-0187-0001.jpeg  \n",
            "  inflating: CovidDataset/Val/Normal/NORMAL2-IM-0652-0001.jpeg  \n",
            "  inflating: CovidDataset/Train/Normal/IM-0691-0001.jpeg  \n",
            "  inflating: CovidDataset/Train/Covid/CD50BA96-6982-4C80-AE7B-5F67ACDBFA56.jpeg  \n",
            "  inflating: CovidDataset/Train/Normal/NORMAL2-IM-0976-0001.jpeg  \n",
            "  inflating: CovidDataset/Train/Covid/covid-19-pneumonia-20-pa-on-admission.jpg  \n",
            "  inflating: CovidDataset/Train/Covid/1-s2.0-S0929664620300449-gr2_lrg-c.jpg  \n",
            "  inflating: CovidDataset/Train/Covid/fff49165-b22d-4bb4-b9d1-d5d62c52436c.annot.original.png  \n",
            "  inflating: CovidDataset/Train/Covid/1.CXRCTThoraximagesofCOVID-19fromSingapore.pdf-002-fig3a.png  \n",
            "  inflating: CovidDataset/Val/Normal/NORMAL2-IM-0395-0001.jpeg  \n",
            "  inflating: CovidDataset/Train/Normal/IM-0182-0001.jpeg  \n",
            "  inflating: CovidDataset/Train/Covid/covid-19-pneumonia-evolution-over-a-week-1-day0-PA.jpg  \n",
            "  inflating: CovidDataset/Val/Normal/NORMAL2-IM-0914-0001.jpeg  \n",
            "  inflating: CovidDataset/Train/Covid/covid-19-pneumonia-30-PA.jpg  \n",
            "  inflating: CovidDataset/Train/Covid/nejmc2001573_f1a.jpeg  \n",
            "  inflating: CovidDataset/Train/Covid/kjr-21-e25-g001-l-a.jpg  \n",
            "  inflating: CovidDataset/Val/Normal/NORMAL2-IM-0873-0001.jpeg  \n",
            "  inflating: CovidDataset/Train/Normal/NORMAL2-IM-0501-0001.jpeg  \n",
            "  inflating: CovidDataset/Train/Normal/IM-0667-0001.jpeg  \n",
            "  inflating: CovidDataset/Train/Normal/IM-0551-0001-0002.jpeg  \n",
            "  inflating: CovidDataset/Train/Normal/IM-0176-0001.jpeg  \n",
            "  inflating: CovidDataset/Train/Covid/lancet-case2b.jpg  \n",
            "  inflating: CovidDataset/Train/Normal/IM-0713-0001.jpeg  \n",
            "  inflating: CovidDataset/Train/Covid/all14238-fig-0001-m-c.jpg  \n",
            "  inflating: CovidDataset/Val/Covid/covid-19-pneumonia-14-PA.png  \n",
            "  inflating: CovidDataset/Val/Normal/NORMAL2-IM-0851-0001-0001.jpeg  \n",
            "  inflating: CovidDataset/Train/Normal/NORMAL2-IM-1154-0001-0002.jpeg  \n",
            "  inflating: CovidDataset/Train/Normal/IM-0619-0001.jpeg  \n",
            "  inflating: CovidDataset/Val/Normal/NORMAL2-IM-0441-0001.jpeg  \n",
            "  inflating: CovidDataset/Val/Normal/NORMAL2-IM-0765-0001.jpeg  \n",
            "  inflating: CovidDataset/Train/Normal/IM-0172-0001.jpeg  \n",
            "  inflating: CovidDataset/Train/Normal/IM-0551-0001-0001.jpeg  \n",
            "  inflating: CovidDataset/Train/Covid/gr1_lrg-b.jpg  \n",
            "  inflating: CovidDataset/Train/Covid/1-s2.0-S0929664620300449-gr2_lrg-b.jpg  \n",
            "  inflating: CovidDataset/Train/Normal/IM-0514-0001.jpeg  \n",
            "  inflating: CovidDataset/Train/Covid/covid-19-pneumonia-20.jpg  \n",
            "  inflating: CovidDataset/Train/Normal/IM-0544-0001.jpeg  \n",
            "  inflating: CovidDataset/Val/Normal/NORMAL2-IM-1022-0001.jpeg  \n",
            "  inflating: CovidDataset/Train/Normal/NORMAL2-IM-0935-0001.jpeg  \n",
            "  inflating: CovidDataset/Train/Covid/covid-19-pneumonia-22-day1-pa.png  \n",
            "  inflating: CovidDataset/Train/Normal/NORMAL2-IM-1288-0001.jpeg  \n",
            "  inflating: CovidDataset/Train/Covid/16669_1_1.jpeg  \n",
            "  inflating: CovidDataset/Train/Covid/nejmoa2001191_f4.jpeg  \n",
            "  inflating: CovidDataset/Val/Normal/NORMAL2-IM-0462-0001.jpeg  \n",
            "  inflating: CovidDataset/Val/Normal/NORMAL2-IM-0894-0001.jpeg  \n",
            "  inflating: CovidDataset/Train/Covid/nejmc2001573_f1b.jpeg  \n",
            "  inflating: CovidDataset/Train/Normal/NORMAL2-IM-1094-0001-0001.jpeg  \n",
            "  inflating: CovidDataset/Train/Normal/IM-0543-0001-0002.jpeg  \n",
            "  inflating: CovidDataset/Train/Covid/16669_3_1.jpeg  \n",
            "  inflating: CovidDataset/Train/Covid/covid-19-pneumonia-58-day-7.jpg  \n",
            "  inflating: CovidDataset/Train/Normal/IM-0536-0001.jpeg  \n",
            "  inflating: CovidDataset/Train/Normal/NORMAL2-IM-1214-0001.jpeg  \n",
            "  inflating: CovidDataset/Train/Covid/AR-2.jpg  \n",
            "  inflating: CovidDataset/Train/Covid/9fdd3c3032296fd04d2cad5d9070d4_jumbo.jpeg  \n",
            "  inflating: CovidDataset/Train/Covid/1B734A89-A1BF-49A8-A1D3-66FAFA4FAC5D.jpeg  \n",
            "  inflating: CovidDataset/Train/Normal/IM-0156-0001.jpeg  \n",
            "  inflating: CovidDataset/Train/Normal/NORMAL2-IM-1111-0001.jpeg  \n",
            "  inflating: CovidDataset/Train/Covid/FE9F9A5D-2830-46F9-851B-1FF4534959BE.jpeg  \n",
            "  inflating: CovidDataset/Train/Normal/IM-0429-0001.jpeg  \n",
            "  inflating: CovidDataset/Train/Covid/covid-19-pneumonia-44-day-0.jpeg  \n",
            "  inflating: CovidDataset/Val/Normal/NORMAL2-IM-0869-0001.jpeg  \n",
            "  inflating: CovidDataset/Train/Covid/figure1-5e75d0940b71e1b702629659-98-right.jpeg  \n",
            "  inflating: CovidDataset/Train/Covid/03BF7561-A9BA-4C3C-B8A0-D3E585F73F3C.jpeg  \n",
            "  inflating: CovidDataset/Train/Covid/ciaa199.pdf-001-c.png  \n",
            "  inflating: CovidDataset/Train/Covid/extubation-4.jpg  \n",
            "  inflating: CovidDataset/Train/Normal/IM-0556-0001.jpeg  \n",
            "  inflating: CovidDataset/Train/Covid/1.CXRCTThoraximagesofCOVID-19fromSingapore.pdf-003-fig4a.png  \n",
            "  inflating: CovidDataset/Train/Covid/covid-19-pneumonia-19.jpg  \n",
            "  inflating: CovidDataset/Train/Normal/IM-0392-0001.jpeg  \n",
            "  inflating: CovidDataset/Train/Normal/IM-0530-0001.jpeg  \n",
            "  inflating: CovidDataset/Train/Normal/IM-0261-0001.jpeg  \n",
            "  inflating: CovidDataset/Train/Covid/1312A392-67A3-4EBF-9319-810CF6DA5EF6.jpeg  \n",
            "  inflating: CovidDataset/Train/Normal/IM-0525-0001.jpeg  \n",
            "  inflating: CovidDataset/Train/Covid/lancet-case2a.jpg  \n",
            "  inflating: CovidDataset/Train/Covid/ciaa199.pdf-001-b.png  \n",
            "  inflating: CovidDataset/Train/Normal/NORMAL2-IM-0941-0001.jpeg  \n",
            "  inflating: CovidDataset/Train/Normal/IM-0488-0001.jpeg  \n",
            "  inflating: CovidDataset/Train/Covid/nejmoa2001191_f3-PA.jpeg  \n",
            "  inflating: CovidDataset/Train/Normal/IM-0447-0001.jpeg  \n",
            "  inflating: CovidDataset/Train/Covid/2966893D-5DDF-4B68-9E2B-4979D5956C8E.jpeg  \n",
            "  inflating: CovidDataset/Train/Covid/ryct.2020200028.fig1a.jpeg  \n",
            "  inflating: CovidDataset/Train/Normal/IM-0688-0001.jpeg  \n",
            "  inflating: CovidDataset/Train/Covid/16660_3_1.jpg  \n",
            "  inflating: CovidDataset/Val/Normal/NORMAL2-IM-1045-0001.jpeg  \n",
            "  inflating: CovidDataset/Train/Normal/NORMAL2-IM-0978-0001.jpeg  \n",
            "  inflating: CovidDataset/Train/Covid/2-chest-filmc.jpg  \n",
            "  inflating: CovidDataset/Val/Normal/NORMAL2-IM-0678-0001.jpeg  \n",
            "  inflating: CovidDataset/Train/Normal/NORMAL2-IM-0573-0001.jpeg  \n",
            "  inflating: CovidDataset/Train/Normal/IM-0365-0001.jpeg  \n",
            "  inflating: CovidDataset/Train/Normal/IM-0300-0001.jpeg  \n",
            "  inflating: CovidDataset/Train/Normal/IM-0242-0001.jpeg  \n",
            "  inflating: CovidDataset/Train/Covid/F4341CE7-73C9-45C6-99C8-8567A5484B63.jpeg  \n",
            "  inflating: CovidDataset/Train/Normal/NORMAL2-IM-1019-0001.jpeg  \n",
            "  inflating: CovidDataset/Train/Covid/01E392EE-69F9-4E33-BFCE-E5C968654078.jpeg  \n",
            "  inflating: CovidDataset/Train/Normal/IM-0648-0001.jpeg  \n",
            "  inflating: CovidDataset/Val/Normal/NORMAL2-IM-0408-0001.jpeg  \n",
            "  inflating: CovidDataset/Train/Covid/yxppt-2020-02-19_00-51-27_287214-day8.jpg  \n",
            "  inflating: CovidDataset/Train/Normal/IM-0635-0001.jpeg  \n",
            "  inflating: CovidDataset/Train/Covid/radiol.2020200490.fig3.jpeg  \n",
            "  inflating: CovidDataset/Val/Normal/NORMAL2-IM-1060-0001.jpeg  \n"
          ]
        }
      ],
      "source": [
        "!unzip covid_19"
      ]
    },
    {
      "cell_type": "code",
      "execution_count": null,
      "metadata": {
        "id": "61WrqpUrlDVm"
      },
      "outputs": [],
      "source": [
        "TRAIN_PATH = \"CovidDataset/Train\"\n",
        "VAL_PATH = \"CovidDataset/Test\""
      ]
    },
    {
      "cell_type": "code",
      "execution_count": null,
      "metadata": {
        "id": "11S17XdUlDS0"
      },
      "outputs": [],
      "source": [
        "import numpy as np\n",
        "\n",
        "import keras\n",
        "from keras.layers import *\n",
        "from keras.models import *\n",
        "from keras.preprocessing import image\n"
      ]
    },
    {
      "cell_type": "code",
      "execution_count": null,
      "metadata": {
        "id": "fyrqvQXplDHO"
      },
      "outputs": [],
      "source": [
        "#train from scratch\n",
        "train_datagen = image.ImageDataGenerator(\n",
        "    rescale = 1./255,\n",
        "    shear_range = 0.2,\n",
        "    zoom_range = 0.2,\n",
        "    horizontal_flip = True,\n",
        ")\n",
        "\n"
      ]
    },
    {
      "cell_type": "code",
      "execution_count": null,
      "metadata": {
        "colab": {
          "base_uri": "https://localhost:8080/"
        },
        "id": "quJLdgmKlDBv",
        "outputId": "9a0b1009-d519-4583-e5e8-3ed09696961e"
      },
      "outputs": [
        {
          "output_type": "stream",
          "name": "stdout",
          "text": [
            "Found 224 images belonging to 2 classes.\n"
          ]
        }
      ],
      "source": [
        "train_data = train_datagen.flow_from_directory(\n",
        "    'CovidDataset/Train',\n",
        "    target_size = (256,256),\n",
        "    batch_size = 16,\n",
        "    class_mode = 'binary')"
      ]
    },
    {
      "cell_type": "code",
      "execution_count": null,
      "metadata": {
        "colab": {
          "base_uri": "https://localhost:8080/"
        },
        "id": "tNa61mcaAN-2",
        "outputId": "101fe6ce-b19f-47d7-9606-a1d6ce149e57"
      },
      "outputs": [
        {
          "output_type": "execute_result",
          "data": {
            "text/plain": [
              "{'Covid': 0, 'Normal': 1}"
            ]
          },
          "metadata": {},
          "execution_count": 25
        }
      ],
      "source": [
        "train_data.class_indices"
      ]
    },
    {
      "cell_type": "code",
      "execution_count": null,
      "metadata": {
        "colab": {
          "base_uri": "https://localhost:8080/"
        },
        "id": "n3mbmfepAN7l",
        "outputId": "3a4e8877-8a1a-4886-c8e7-1282a81c9116"
      },
      "outputs": [
        {
          "output_type": "stream",
          "name": "stdout",
          "text": [
            "Found 60 images belonging to 2 classes.\n"
          ]
        }
      ],
      "source": [
        "test_datagen = image.ImageDataGenerator(rescale=1./255)\n",
        "test_data = test_datagen.flow_from_directory(\n",
        "    'CovidDataset/Val',\n",
        "    target_size = (256,256),\n",
        "    batch_size = 16,\n",
        "    class_mode = 'binary')"
      ]
    },
    {
      "cell_type": "code",
      "execution_count": null,
      "metadata": {
        "id": "ond1Fn5eeUZl"
      },
      "outputs": [],
      "source": [
        "#Training model\n",
        "model = Sequential()\n",
        "model.add(Conv2D(filters = 32, kernel_size=(3,3),activation='relu',input_shape=(256,256,3)))\n",
        "\n",
        "model.add(Conv2D(filters= 64,kernel_size = (3,3),activation='relu'))\n",
        "model.add(MaxPool2D())\n",
        "model.add(Dropout(0.25))\n",
        " \n",
        "model.add(Conv2D(64,(3,3),activation='relu'))\n",
        "model.add(MaxPooling2D(pool_size=(2,2)))\n",
        "model.add(Dropout(0.25))\n",
        "\n",
        "model.add(Conv2D(128 ,(3,3),activation='relu'))\n",
        "model.add(MaxPooling2D(pool_size=(2,2)))\n",
        "model.add(Dropout(0.25))\n",
        "\n",
        "model.add(Flatten())\n",
        "model.add(Dense(64,activation='relu'))\n",
        "model.add(Dropout(0.5))\n",
        "model.add(Dense(1,activation='sigmoid'))\n",
        "\n",
        "model.compile(loss=keras.losses.binary_crossentropy,optimizer='adam',metrics=['accuracy'])"
      ]
    },
    {
      "cell_type": "code",
      "execution_count": null,
      "metadata": {
        "colab": {
          "base_uri": "https://localhost:8080/"
        },
        "id": "rMLHFdLGfN10",
        "outputId": "fbce6e77-04a7-4e9a-e71c-e792c805fa03"
      },
      "outputs": [
        {
          "output_type": "stream",
          "name": "stdout",
          "text": [
            "Model: \"sequential_1\"\n",
            "_________________________________________________________________\n",
            " Layer (type)                Output Shape              Param #   \n",
            "=================================================================\n",
            " conv2d_4 (Conv2D)           (None, 254, 254, 32)      896       \n",
            "                                                                 \n",
            " conv2d_5 (Conv2D)           (None, 252, 252, 64)      18496     \n",
            "                                                                 \n",
            " max_pooling2d_3 (MaxPooling  (None, 126, 126, 64)     0         \n",
            " 2D)                                                             \n",
            "                                                                 \n",
            " dropout_4 (Dropout)         (None, 126, 126, 64)      0         \n",
            "                                                                 \n",
            " conv2d_6 (Conv2D)           (None, 124, 124, 64)      36928     \n",
            "                                                                 \n",
            " max_pooling2d_4 (MaxPooling  (None, 62, 62, 64)       0         \n",
            " 2D)                                                             \n",
            "                                                                 \n",
            " dropout_5 (Dropout)         (None, 62, 62, 64)        0         \n",
            "                                                                 \n",
            " conv2d_7 (Conv2D)           (None, 60, 60, 128)       73856     \n",
            "                                                                 \n",
            " max_pooling2d_5 (MaxPooling  (None, 30, 30, 128)      0         \n",
            " 2D)                                                             \n",
            "                                                                 \n",
            " dropout_6 (Dropout)         (None, 30, 30, 128)       0         \n",
            "                                                                 \n",
            " flatten_1 (Flatten)         (None, 115200)            0         \n",
            "                                                                 \n",
            " dense_2 (Dense)             (None, 64)                7372864   \n",
            "                                                                 \n",
            " dropout_7 (Dropout)         (None, 64)                0         \n",
            "                                                                 \n",
            " dense_3 (Dense)             (None, 1)                 65        \n",
            "                                                                 \n",
            "=================================================================\n",
            "Total params: 7,503,105\n",
            "Trainable params: 7,503,105\n",
            "Non-trainable params: 0\n",
            "_________________________________________________________________\n"
          ]
        }
      ],
      "source": [
        "model.summary()"
      ]
    },
    {
      "cell_type": "code",
      "execution_count": null,
      "metadata": {
        "colab": {
          "base_uri": "https://localhost:8080/"
        },
        "id": "pHm6iRXRAN1T",
        "outputId": "ed7d11e5-7581-4825-d725-328c778de40c"
      },
      "outputs": [
        {
          "output_type": "stream",
          "name": "stdout",
          "text": [
            "Epoch 1/10\n",
            "8/8 [==============================] - 7s 834ms/step - loss: 0.8267 - accuracy: 0.5938 - val_loss: 0.6745 - val_accuracy: 0.5000\n",
            "Epoch 2/10\n",
            "8/8 [==============================] - 6s 770ms/step - loss: 0.5878 - accuracy: 0.7109 - val_loss: 0.4741 - val_accuracy: 0.8750\n",
            "Epoch 3/10\n",
            "8/8 [==============================] - 6s 804ms/step - loss: 0.4114 - accuracy: 0.7969 - val_loss: 0.5333 - val_accuracy: 0.9375\n",
            "Epoch 4/10\n",
            "8/8 [==============================] - 6s 828ms/step - loss: 0.4076 - accuracy: 0.8359 - val_loss: 0.3235 - val_accuracy: 0.9688\n",
            "Epoch 5/10\n",
            "8/8 [==============================] - 7s 841ms/step - loss: 0.2590 - accuracy: 0.8984 - val_loss: 0.1659 - val_accuracy: 0.9688\n",
            "Epoch 6/10\n",
            "8/8 [==============================] - 6s 754ms/step - loss: 0.2810 - accuracy: 0.8750 - val_loss: 0.2370 - val_accuracy: 0.9375\n",
            "Epoch 7/10\n",
            "8/8 [==============================] - 6s 782ms/step - loss: 0.1124 - accuracy: 0.9531 - val_loss: 0.1046 - val_accuracy: 0.9688\n",
            "Epoch 8/10\n",
            "8/8 [==============================] - 6s 787ms/step - loss: 0.1450 - accuracy: 0.9375 - val_loss: 0.0666 - val_accuracy: 0.9688\n",
            "Epoch 9/10\n",
            "8/8 [==============================] - 6s 790ms/step - loss: 0.1449 - accuracy: 0.9609 - val_loss: 0.0513 - val_accuracy: 1.0000\n",
            "Epoch 10/10\n",
            "8/8 [==============================] - 6s 797ms/step - loss: 0.1105 - accuracy: 0.9609 - val_loss: 0.0437 - val_accuracy: 1.0000\n"
          ]
        }
      ],
      "source": [
        "hist = model.fit(\n",
        "    train_data,\n",
        "    steps_per_epoch=8,\n",
        "    epochs = 10,\n",
        "    validation_data = test_data,\n",
        "    validation_steps=2\n",
        ")"
      ]
    },
    {
      "cell_type": "code",
      "execution_count": null,
      "metadata": {
        "colab": {
          "base_uri": "https://localhost:8080/"
        },
        "id": "wKSbgnR6EVJf",
        "outputId": "8887def6-af5e-4da4-9cfa-48777fd2d5f6"
      },
      "outputs": [
        {
          "output_type": "stream",
          "name": "stdout",
          "text": [
            "14/14 [==============================] - 8s 538ms/step - loss: 0.0887 - accuracy: 0.9821\n"
          ]
        },
        {
          "output_type": "execute_result",
          "data": {
            "text/plain": [
              "[0.08870819956064224, 0.9821428656578064]"
            ]
          },
          "metadata": {},
          "execution_count": 30
        }
      ],
      "source": [
        "model.evaluate(train_data)"
      ]
    },
    {
      "cell_type": "code",
      "execution_count": null,
      "metadata": {
        "colab": {
          "base_uri": "https://localhost:8080/"
        },
        "id": "OM_wOB00GiBj",
        "outputId": "7634dba9-9659-40b4-a37f-c09eebf8261e"
      },
      "outputs": [
        {
          "output_type": "stream",
          "name": "stdout",
          "text": [
            "4/4 [==============================] - 2s 390ms/step - loss: 0.0644 - accuracy: 0.9833\n"
          ]
        },
        {
          "output_type": "execute_result",
          "data": {
            "text/plain": [
              "[0.06442607939243317, 0.9833333492279053]"
            ]
          },
          "metadata": {},
          "execution_count": 31
        }
      ],
      "source": [
        "model.evaluate(test_data)"
      ]
    },
    {
      "cell_type": "markdown",
      "metadata": {
        "id": "Xy-zVrnhDlcT"
      },
      "source": [
        ""
      ]
    },
    {
      "cell_type": "code",
      "execution_count": null,
      "metadata": {
        "colab": {
          "base_uri": "https://localhost:8080/"
        },
        "id": "cO4bR1YFljPI",
        "outputId": "71dd3629-7a51-40ce-d5d4-105dcd4c3621"
      },
      "outputs": [
        {
          "output_type": "execute_result",
          "data": {
            "text/plain": [
              "(1, 256, 256, 3)"
            ]
          },
          "metadata": {},
          "execution_count": 32
        }
      ],
      "source": [
        "path=\"/content/CovidDataset/Val/Covid/16654_1_1.png\"\n",
        "img=image.load_img(path,target_size=(256,256))\n",
        "img=image.img_to_array(img)/255\n",
        "img=np.array([img])\n",
        "img.shape"
      ]
    },
    {
      "cell_type": "code",
      "execution_count": null,
      "metadata": {
        "id": "Enqa2ThsnR3C"
      },
      "outputs": [],
      "source": [
        "predictions = (model.predict(img) > 0.5).astype(\"int32\")"
      ]
    },
    {
      "cell_type": "code",
      "execution_count": null,
      "metadata": {
        "colab": {
          "base_uri": "https://localhost:8080/"
        },
        "id": "1RGuy5LgplnM",
        "outputId": "9b30af9e-646f-4b94-c803-d7965a45b627"
      },
      "outputs": [
        {
          "output_type": "stream",
          "name": "stdout",
          "text": [
            "covid\n"
          ]
        }
      ],
      "source": [
        "if predictions==1:\n",
        "  print(\"normal\")\n",
        "else:\n",
        "  print(\"covid\")"
      ]
    },
    {
      "cell_type": "markdown",
      "metadata": {
        "id": "H5ZQ73RbVdTb"
      },
      "source": [
        "# New Section"
      ]
    },
    {
      "cell_type": "markdown",
      "metadata": {
        "id": "p0UttVP_QcNh"
      },
      "source": [
        "# New Section"
      ]
    },
    {
      "cell_type": "markdown",
      "metadata": {
        "id": "uLOQnNcsDlR0"
      },
      "source": [
        ""
      ]
    }
  ],
  "metadata": {
    "accelerator": "GPU",
    "colab": {
      "collapsed_sections": [],
      "name": "final result covid detections",
      "provenance": []
    },
    "kernelspec": {
      "display_name": "Python 3",
      "name": "python3"
    }
  },
  "nbformat": 4,
  "nbformat_minor": 0
}